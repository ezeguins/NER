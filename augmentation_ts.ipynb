{
  "nbformat": 4,
  "nbformat_minor": 0,
  "metadata": {
    "colab": {
      "name": "augmentation_ts.ipynb",
      "provenance": [],
      "collapsed_sections": [],
      "authorship_tag": "ABX9TyMdpT4QE1k9EchsezknpXWc",
      "include_colab_link": true
    },
    "kernelspec": {
      "name": "python3",
      "display_name": "Python 3"
    },
    "language_info": {
      "name": "python"
    }
  },
  "cells": [
    {
      "cell_type": "markdown",
      "metadata": {
        "id": "view-in-github",
        "colab_type": "text"
      },
      "source": [
        "<a href=\"https://colab.research.google.com/github/ezeguins/NER/blob/main/augmentation_ts.ipynb\" target=\"_parent\"><img src=\"https://colab.research.google.com/assets/colab-badge.svg\" alt=\"Open In Colab\"/></a>"
      ]
    },
    {
      "cell_type": "markdown",
      "source": [
        "# DATA AUGMENTATION FOR BOUNDING BOX DETECTION DATASET\n",
        "- Load dataset file from gdrive.\n",
        "- Divide in three equal parts and rotate images and boundig boxes 90, 180 and 270 degrees.\n",
        "- Save to gdrive rotated data and annotations with their new filesnames.\n",
        "\n"
      ],
      "metadata": {
        "id": "QWtyzd0bnb_W"
      }
    },
    {
      "cell_type": "code",
      "source": [
        "import os\n",
        "from google.colab import drive\n",
        "\n",
        "drive.mount('/content/gdrive')"
      ],
      "metadata": {
        "colab": {
          "base_uri": "https://localhost:8080/"
        },
        "id": "01KT-LhBtYMJ",
        "outputId": "0d9bd6e3-2c8f-404b-d016-3fea6218e356"
      },
      "execution_count": null,
      "outputs": [
        {
          "output_type": "stream",
          "name": "stdout",
          "text": [
            "Mounted at /content/gdrive\n"
          ]
        }
      ]
    },
    {
      "cell_type": "code",
      "execution_count": null,
      "metadata": {
        "id": "-lA-XIdMoAjm"
      },
      "outputs": [],
      "source": [
        "!pip install imgaug &> /dev/null\n",
        "from imgaug import augmenters as iaa\n",
        "from imgaug.augmentables.bbs import BoundingBox, BoundingBoxesOnImage\n",
        "import numpy as np\n",
        "import cv2\n",
        "from google.colab.patches import cv2_imshow"
      ]
    },
    {
      "cell_type": "code",
      "source": [
        "# LOAD ORIGINAL DATASET FILE\n",
        "\n",
        "outfile = \"/content/gdrive/MyDrive/VGG16/dataset/datos.npz\"\n",
        "npzfile = np.load(outfile)\n",
        "data1 = npzfile['arr_0']\n",
        "targets1 = npzfile['arr_1']\n",
        "filenames1 = npzfile['arr_2']\n",
        "n = len(data1)\n"
      ],
      "metadata": {
        "id": "qX2_vV5KpXhI"
      },
      "execution_count": null,
      "outputs": []
    },
    {
      "cell_type": "code",
      "source": [
        "print(len(data1), len(targets1), len(filenames1))"
      ],
      "metadata": {
        "colab": {
          "base_uri": "https://localhost:8080/"
        },
        "id": "22qDmEE6KSPK",
        "outputId": "ca90fe85-7465-4a68-a877-16d56f59a135"
      },
      "execution_count": null,
      "outputs": [
        {
          "output_type": "stream",
          "name": "stdout",
          "text": [
            "857 857 857\n"
          ]
        }
      ]
    },
    {
      "cell_type": "code",
      "source": [
        "# DATA SHUFFLING\n",
        "\n",
        "from sklearn.utils import shuffle\n",
        "\n",
        "data1, targets1, filenames1 = shuffle(data1, targets1, filenames1, random_state=0 )\n"
      ],
      "metadata": {
        "id": "a0cYnTIb5BgI"
      },
      "execution_count": null,
      "outputs": []
    },
    {
      "cell_type": "code",
      "source": [
        "# THREE EQUAL PARTS 90, 180 Y 270 DEGREES ROTATION \n",
        "\n",
        "seq = iaa.Sequential([iaa.Affine(rotate=(90))], random_order=True) # apply augmenters in random order\n",
        "data = data1[:int(n/3)] * 255\n",
        "targets = targets1[:int(n/3)] * 224\n",
        "bbs = BoundingBoxesOnImage.from_xyxy_array(targets, shape=data1[0])\n",
        "data_rotated90, targets = seq(images=data, bounding_boxes=bbs)\n",
        "\n",
        "targets_rotated90=[]\n",
        "targets_rotated90 = [[0,0,0,0] for i in range(len(data))] \n",
        "for idx, target in enumerate(targets.bounding_boxes):\n",
        "  targets_rotated90[idx] = [target.x1, target.y1, target.x2, target.y2]\n",
        "\n",
        "\n",
        "seq = iaa.Sequential([iaa.Affine(rotate=(-90))], random_order=True) # apply augmenters in random order\n",
        "data = data1[int(n/3):int(2*n/3)] * 255\n",
        "targets = targets1[int(n/3):int(2*n/3)] *224\n",
        "bbs = BoundingBoxesOnImage.from_xyxy_array(targets, shape=data1[0])\n",
        "data_rotated270, targets = seq(images=data, bounding_boxes=bbs)\n",
        "\n",
        "targets_rotated270=[]\n",
        "targets_rotated270 = [[0,0,0,0] for i in range(len(data))] \n",
        "for idx, target in enumerate(targets.bounding_boxes):\n",
        "  targets_rotated270[idx] = [target.x1, target.y1, target.x2, target.y2]\n",
        "\n",
        "\n",
        "seq = iaa.Sequential([iaa.Affine(rotate=(180))], random_order=True) # apply augmenters in random order\n",
        "data = data1[int(2*n/3):] * 255\n",
        "targets = targets1[int(2*n/3):] * 224\n",
        "bbs = BoundingBoxesOnImage.from_xyxy_array(targets, shape=data1[0])\n",
        "data_rotated180, targets = seq(images=data, bounding_boxes=bbs)\n",
        "\n",
        "targets_rotated180=[]\n",
        "targets_rotated180 = [[0,0,0,0] for i in range(len(data))] \n",
        "for idx, target in enumerate(targets.bounding_boxes):\n",
        "  targets_rotated180[idx] = [target.x1, target.y1, target.x2, target.y2]\n"
      ],
      "metadata": {
        "id": "gRCah6WrtdHA"
      },
      "execution_count": null,
      "outputs": []
    },
    {
      "cell_type": "code",
      "source": [
        "# IMAGES VERIFICATION\n",
        " \n",
        "data = data1_rotated\n",
        "targ = targets1_rotated\n",
        "for idx, image in enumerate(data):\n",
        "  (startX, startY, endX, endY) =[int(targ[idx][0]),int(targ[idx][1]),int(targ[idx][2]),int(targ[idx][3])]\n",
        "  print(startX, startY, endX, endY)\n",
        "  cv2.rectangle(image, (startX, startY), (endX, endY),\t(0, 255, 0), 2)\n",
        "  # show the output image\n",
        "  cv2_imshow(image)\n",
        "  #cv2.waitKey(0)"
      ],
      "metadata": {
        "id": "PSpjSl8VuMR2"
      },
      "execution_count": null,
      "outputs": []
    },
    {
      "cell_type": "code",
      "source": [
        "# FULL DATASET SAVING (ORIGINAL + ROTATED)\n",
        "\n",
        "# FILES NAME MODIFICATION\n",
        "filenames1_rotated = [\"{}{}\".format('SHU_',i) for i in filenames1]\n",
        "\n",
        "# ROTATED DATASET CONCATENATION\n",
        "data1_rotated = np.concatenate((data_rotated90, data_rotated270, data_rotated180), axis = 0)\n",
        "targets1_rotated = targets_rotated90 + targets_rotated270 + targets_rotated180\n",
        "\n"
      ],
      "metadata": {
        "id": "dMKo0Qj7xEXC"
      },
      "execution_count": null,
      "outputs": []
    },
    {
      "cell_type": "code",
      "source": [
        "data_rotated = np.array(data1_rotated, dtype = 'float32') / 255\n",
        "targets_rotated = np.array(targets1_rotated, dtype= 'float32') /224\n",
        "filenames_rotated = np.array(filenames1_rotated)\n",
        "\n",
        "print(type(data_rotated))\n",
        "print(type(targets_rotated))\n",
        "print(type(filenames_rotated))\n"
      ],
      "metadata": {
        "id": "YXgKdO9kHP8_"
      },
      "execution_count": null,
      "outputs": []
    },
    {
      "cell_type": "code",
      "source": [
        "data_full = np.concatenate((data1, data_rotated), axis=0)\n",
        "targets_full = np.concatenate((targets1, targets_rotated))\n",
        "filenames_full = np.concatenate((filenames1, filenames_rotated))\n",
        "print(len(data_full), len(targets_full), len(filenames_full))\n"
      ],
      "metadata": {
        "id": "XtDvfNPCF5ie"
      },
      "execution_count": null,
      "outputs": []
    },
    {
      "cell_type": "code",
      "source": [
        "# DATA SET RECORD TO CURRENT GOOGLE DRIVE\n",
        "\n",
        "inicio = 0\n",
        "fin = len(data_full)\n",
        "print(fin)\n",
        "\n",
        "# convert the data and targets to NumPy arrays, scaling the input\n",
        "# pixel intensities from the range [0, 255] to [0, 1]\n",
        "\n",
        "outfile_full = \"/content/gdrive/MyDrive/VGG16/dataset/datos_full.npz\"\n",
        "\n",
        "np.savez(outfile_full, data_full, targets_full,filenames_full)"
      ],
      "metadata": {
        "id": "HTBd_fQZNl2T"
      },
      "execution_count": null,
      "outputs": []
    },
    {
      "cell_type": "code",
      "source": [
        ""
      ],
      "metadata": {
        "id": "XcnMaDwrL5Wz"
      },
      "execution_count": null,
      "outputs": []
    }
  ]
}