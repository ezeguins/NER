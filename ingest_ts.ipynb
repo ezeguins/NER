{
  "nbformat": 4,
  "nbformat_minor": 0,
  "metadata": {
    "colab": {
      "name": "ingest_ts.ipynb",
      "provenance": [],
      "collapsed_sections": []
    },
    "kernelspec": {
      "name": "python3",
      "display_name": "Python 3"
    },
    "language_info": {
      "name": "python"
    }
  },
  "cells": [
    {
      "cell_type": "markdown",
      "source": [
        "THIS NOTEBOOK PERFORM THE FOLLOWING:\n",
        "- READ IMAGES .ZIP FILES FROM GOOGLE CLOUD BUCKET\n",
        "- ROTATE THE IMAGES IN ORDER TO FURTHER READ THE TEXT HORIZONTALLY\n",
        "- OCR: CONVERT IMAGES TO TEXT THROUGH TESSERACT API\n",
        "- RECORD THE TEXT FILE TO CURRENT GOOGLE DRIVE"
      ],
      "metadata": {
        "id": "EeAFRfi0cy8T"
      }
    },
    {
      "cell_type": "code",
      "metadata": {
        "colab": {
          "base_uri": "https://localhost:8080/"
        },
        "id": "h2inIo78bWOC",
        "outputId": "777b205c-77ca-4bd6-baf6-01a0e4fb758f"
      },
      "source": [
        "!sudo apt install tesseract-ocr"
      ],
      "execution_count": null,
      "outputs": [
        {
          "output_type": "stream",
          "name": "stdout",
          "text": [
            "Reading package lists... Done\n",
            "Building dependency tree       \n",
            "Reading state information... Done\n",
            "The following additional packages will be installed:\n",
            "  tesseract-ocr-eng tesseract-ocr-osd\n",
            "The following NEW packages will be installed:\n",
            "  tesseract-ocr tesseract-ocr-eng tesseract-ocr-osd\n",
            "0 upgraded, 3 newly installed, 0 to remove and 37 not upgraded.\n",
            "Need to get 4,795 kB of archives.\n",
            "After this operation, 15.8 MB of additional disk space will be used.\n",
            "Get:1 http://archive.ubuntu.com/ubuntu bionic/universe amd64 tesseract-ocr-eng all 4.00~git24-0e00fe6-1.2 [1,588 kB]\n",
            "Get:2 http://archive.ubuntu.com/ubuntu bionic/universe amd64 tesseract-ocr-osd all 4.00~git24-0e00fe6-1.2 [2,989 kB]\n",
            "Get:3 http://archive.ubuntu.com/ubuntu bionic/universe amd64 tesseract-ocr amd64 4.00~git2288-10f4998a-2 [218 kB]\n",
            "Fetched 4,795 kB in 1s (5,401 kB/s)\n",
            "debconf: unable to initialize frontend: Dialog\n",
            "debconf: (No usable dialog-like program is installed, so the dialog based frontend cannot be used. at /usr/share/perl5/Debconf/FrontEnd/Dialog.pm line 76, <> line 3.)\n",
            "debconf: falling back to frontend: Readline\n",
            "debconf: unable to initialize frontend: Readline\n",
            "debconf: (This frontend requires a controlling tty.)\n",
            "debconf: falling back to frontend: Teletype\n",
            "dpkg-preconfigure: unable to re-open stdin: \n",
            "Selecting previously unselected package tesseract-ocr-eng.\n",
            "(Reading database ... 155222 files and directories currently installed.)\n",
            "Preparing to unpack .../tesseract-ocr-eng_4.00~git24-0e00fe6-1.2_all.deb ...\n",
            "Unpacking tesseract-ocr-eng (4.00~git24-0e00fe6-1.2) ...\n",
            "Selecting previously unselected package tesseract-ocr-osd.\n",
            "Preparing to unpack .../tesseract-ocr-osd_4.00~git24-0e00fe6-1.2_all.deb ...\n",
            "Unpacking tesseract-ocr-osd (4.00~git24-0e00fe6-1.2) ...\n",
            "Selecting previously unselected package tesseract-ocr.\n",
            "Preparing to unpack .../tesseract-ocr_4.00~git2288-10f4998a-2_amd64.deb ...\n",
            "Unpacking tesseract-ocr (4.00~git2288-10f4998a-2) ...\n",
            "Setting up tesseract-ocr-osd (4.00~git24-0e00fe6-1.2) ...\n",
            "Setting up tesseract-ocr-eng (4.00~git24-0e00fe6-1.2) ...\n",
            "Setting up tesseract-ocr (4.00~git2288-10f4998a-2) ...\n",
            "Processing triggers for man-db (2.8.3-2ubuntu0.1) ...\n"
          ]
        }
      ]
    },
    {
      "cell_type": "code",
      "metadata": {
        "colab": {
          "base_uri": "https://localhost:8080/"
        },
        "id": "2FhuNFg9cRZ_",
        "outputId": "f9d962cf-f8df-4977-f624-ef70d2cd5170"
      },
      "source": [
        "!pip install pytesseract"
      ],
      "execution_count": null,
      "outputs": [
        {
          "output_type": "stream",
          "name": "stdout",
          "text": [
            "Collecting pytesseract\n",
            "  Downloading pytesseract-0.3.8.tar.gz (14 kB)\n",
            "Requirement already satisfied: Pillow in /usr/local/lib/python3.7/dist-packages (from pytesseract) (7.1.2)\n",
            "Building wheels for collected packages: pytesseract\n",
            "  Building wheel for pytesseract (setup.py) ... \u001b[?25l\u001b[?25hdone\n",
            "  Created wheel for pytesseract: filename=pytesseract-0.3.8-py2.py3-none-any.whl size=14072 sha256=c4dabffda34ef5268b2a6a78e02e2caa1ee22c465c30543952db14d131014875\n",
            "  Stored in directory: /root/.cache/pip/wheels/a4/89/b9/3f11250225d0f90e5454fcc30fd1b7208db226850715aa9ace\n",
            "Successfully built pytesseract\n",
            "Installing collected packages: pytesseract\n",
            "Successfully installed pytesseract-0.3.8\n"
          ]
        }
      ]
    },
    {
      "cell_type": "code",
      "metadata": {
        "id": "bnbpjekSdF-X"
      },
      "source": [
        "import os\n",
        "import pytesseract\n",
        "import zipfile\n",
        "from PIL import Image\n",
        "import re"
      ],
      "execution_count": null,
      "outputs": []
    },
    {
      "cell_type": "code",
      "metadata": {
        "id": "Vc7-vXiFd8Y9"
      },
      "source": [
        "from google.colab import auth\n",
        "auth.authenticate_user()"
      ],
      "execution_count": null,
      "outputs": []
    },
    {
      "cell_type": "code",
      "metadata": {
        "id": "_T9dzumKI7nU"
      },
      "source": [
        "project_id = 'google_cloud_project_id'"
      ],
      "execution_count": null,
      "outputs": []
    },
    {
      "cell_type": "code",
      "metadata": {
        "id": "QVADAZ1lL00L"
      },
      "source": [
        "#!gcloud config set project {project_id}"
      ],
      "execution_count": null,
      "outputs": []
    },
    {
      "cell_type": "code",
      "metadata": {
        "colab": {
          "base_uri": "https://localhost:8080/"
        },
        "id": "Mk5-TEeYL10X",
        "outputId": "50e751eb-7115-4f76-ee57-9e3b0066bfe9"
      },
      "source": [
        "!gsutil cp -n gs://'bucket_name'/'zip_file' /content"
      ],
      "execution_count": null,
      "outputs": [
        {
          "output_type": "stream",
          "name": "stdout",
          "text": [
            "Skipping existing item: file:///content/estatutos-png.zip\n"
          ]
        }
      ]
    },
    {
      "cell_type": "code",
      "metadata": {
        "id": "I2lrYkORMkaX"
      },
      "source": [
        "rutazip = 'google_drive_zip_path'\n",
        "zipimg = zipfile.ZipFile(rutazip)"
      ],
      "execution_count": null,
      "outputs": []
    },
    {
      "cell_type": "code",
      "metadata": {
        "colab": {
          "base_uri": "https://localhost:8080/"
        },
        "id": "GNChrS0NNjta",
        "outputId": "007dfd5e-bafc-42a7-e6df-59d275d396ec"
      },
      "source": [
        "pytesseract.pytesseract.tesseract_cmd = r'/usr/bin/tesseract'\n",
        "!sudo apt-get install tesseract-ocr-spa\n",
        "#pytesseract.pytesseract.tesseract_cmd = r'/usr/local/bin/pytesseract'"
      ],
      "execution_count": null,
      "outputs": [
        {
          "output_type": "stream",
          "name": "stdout",
          "text": [
            "Reading package lists... Done\n",
            "Building dependency tree       \n",
            "Reading state information... Done\n",
            "tesseract-ocr-spa is already the newest version (4.00~git24-0e00fe6-1.2).\n",
            "0 upgraded, 0 newly installed, 0 to remove and 37 not upgraded.\n"
          ]
        }
      ]
    },
    {
      "cell_type": "code",
      "metadata": {
        "id": "jRLec1RTezXt"
      },
      "source": [
        "def rotar(imagen):\n",
        "  try:\n",
        "    osd_rotated_image = pytesseract.image_to_osd(imagen)\n",
        "    angle_rotated_image = re.search('(?<=Rotate: )\\d+', osd_rotated_image).group(0)\n",
        "    orientation_confidence = re.search('(?<=Orientation confidence: )\\d+', osd_rotated_image).group(0)\n",
        "    if (angle_rotated_image == '0') or (orientation_confidence < 9) :\n",
        "      imagen_rotada = imagen\n",
        "      print('no rotado')\n",
        "      print('orientation confidence: ',orientation_confidence)\n",
        "      # break the loop once we get the correctly deskewed image\n",
        "    elif (angle_rotated_image == '90'):\n",
        "      imagen_rotada = imagen.rotate(90)\n",
        "      print('rotado 90 grados')\n",
        "      print('orientation confidence: ',orientation_confidence)\n",
        "       # rotate(image,angle,background_color)\n",
        "    elif (angle_rotated_image == '180'):\n",
        "      imagen_rotada = imagen.rotate(180)\n",
        "      print('rotado 180 grados')\n",
        "      print('orientation confidence: ',orientation_confidence)\n",
        "    elif (angle_rotated_image == '270'):\n",
        "      imagen_rotada = imagen.rotate(270)\n",
        "      print('rotado 270 grados')\n",
        "      print('orientation confidence: ',orientation_confidence)\n",
        "  except:\n",
        "    imagen_rotada = imagen\n",
        "    print(\"Exception:\")\n",
        "    print(\"Error en lectura de caracteres. Posible imagen vacía\")\n",
        "  finally:\n",
        "    return imagen_rotada\n",
        "  "
      ],
      "execution_count": null,
      "outputs": []
    },
    {
      "cell_type": "code",
      "metadata": {
        "id": "dFWFKQSbpIEa"
      },
      "source": [
        "def primerparte(nombre):\n",
        "  punto = nombre.find('.')\n",
        "  pparte = nombre[0:punto]\n",
        "  return pparte"
      ],
      "execution_count": null,
      "outputs": []
    },
    {
      "cell_type": "code",
      "metadata": {
        "id": "QHFn-KSHRyQY"
      },
      "source": [
        "custom_config = r'-l spa --oem 3 --psm 6'\n",
        "largo = len(zipimg.namelist())\n",
        "#texto = []\n",
        "mtexto = \"\"\n",
        "nombreanterior = \"\"\n",
        "n = len(zipimg.namelist())-1\n",
        "for x in range(0,n):\n",
        "  nombrearchivo = zipimg.namelist()[x]\n",
        "  if nombrearchivo[1] != \"_\":\n",
        "    print(nombrearchivo)\n",
        "    abierto = zipimg.open(nombrearchivo)\n",
        "    img = Image.open(abierto)\n",
        "    img = rotar(img)\n",
        "    if primerparte(nombrearchivo) == primerparte(nombreanterior):\n",
        "      mtexto = mtexto + pytesseract.image_to_string(img, config=custom_config)\n",
        "      mtexto = mtexto.replace(\"\\n\", \" \")\n",
        "\n",
        "    else:\n",
        "      if mtexto != \"\":\n",
        "        file = open(primerparte(nombreanterior)+ '.txt', \"w\")\n",
        "        file.write(mtexto)\n",
        "        file.close()\n",
        "        nombretemp = primerparte(nombreanterior) + '.txt'\n",
        "        !gsutil cp -n $nombretemp gs://'archivos_crudos'\n",
        "        print('se escribe archivo: ' + primerparte(nombreanterior) + '.txt' )\n",
        "      mtexto = pytesseract.image_to_string(img, config=custom_config)    \n",
        "      mtexto = mtexto.replace(\"\\n\", \" \")\n",
        "      print('new mtexto init')\n",
        "   \n",
        "    nombreanterior = nombrearchivo\n",
        "\n",
        "# Se escribe el último archivo si la lista no está vacía\n",
        "if nombreanterior != \"\":  \n",
        "  file = open(primerparte(nombreanterior)+ '.txt', \"w\")\n",
        "  file.write(mtexto)\n",
        "  file.close()\n",
        "  nombretemp = primerparte(nombreanterior) + '.txt'\n",
        "  !gsutil cp -n $nombretemp gs://'archivos_crudos'\n",
        "  print('record new file: ' + primerparte(nombreanterior) + '.txt' )"
      ],
      "execution_count": null,
      "outputs": []
    },
    {
      "cell_type": "code",
      "metadata": {
        "id": "KPvuo8Q4aOiC"
      },
      "source": [
        ""
      ],
      "execution_count": null,
      "outputs": []
    }
  ]
}